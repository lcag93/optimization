{
 "cells": [
  {
   "cell_type": "code",
   "execution_count": 1,
   "id": "fca4f907-3627-4200-b65e-cc661c72d870",
   "metadata": {},
   "outputs": [],
   "source": [
    "import warnings\n",
    "warnings.filterwarnings('ignore')\n",
    "\n",
    "import numpy as np\n",
    "import pandas as pd\n",
    "\n",
    "from simplex_method_geocean import Get_New_Tableau, Check_Optimal, Get_Optimal_Result"
   ]
  },
  {
   "cell_type": "markdown",
   "id": "0e795c57-8d1c-4989-8f09-d46ed2e36b42",
   "metadata": {},
   "source": [
    "# SIMPLEX Method - Ex1"
   ]
  },
  {
   "cell_type": "markdown",
   "id": "c93d1c54-2c56-41b6-9ed4-891fa6a26513",
   "metadata": {},
   "source": [
    "The **Simplex** method is an approach to solving linear programming by hand using slack variables, tableaus and pivot variables as a means to finding the optimal solution."
   ]
  },
  {
   "cell_type": "markdown",
   "id": "e49cdb05-b219-4c46-8973-117e6f2935a6",
   "metadata": {},
   "source": [
    "**Minimize:** "
   ]
  },
  {
   "cell_type": "markdown",
   "id": "33eedd1e-6242-4858-a1b6-120732a726a0",
   "metadata": {},
   "source": [
    "$$ -Z = - 8X_1 - 10X_2 -7X_3$$"
   ]
  },
  {
   "cell_type": "markdown",
   "id": "4151609c-7213-4d04-9ad5-df95fb07fb39",
   "metadata": {},
   "source": [
    "**Subject to:**"
   ]
  },
  {
   "cell_type": "markdown",
   "id": "c0172476-2776-4aa0-913f-37ca2b4bc4b2",
   "metadata": {},
   "source": [
    "$$X_1 + 3X_2 + 2X_3\\leq 10$$"
   ]
  },
  {
   "cell_type": "markdown",
   "id": "851d7c45-ca49-40d4-8c49-fde047bdf81b",
   "metadata": {},
   "source": [
    "$$- X_1 - 5X_2 - X_3 \\geq 8$$"
   ]
  },
  {
   "cell_type": "markdown",
   "id": "4186f806-b0a5-440c-8e61-44fd7438c7be",
   "metadata": {},
   "source": [
    "$$ X_1, X_2, X_3 \\geq 0$$"
   ]
  },
  {
   "cell_type": "markdown",
   "id": "b05ea3e2-7467-44c2-b936-a80ed60bf258",
   "metadata": {},
   "source": [
    "## 1) Standarized Form"
   ]
  },
  {
   "cell_type": "markdown",
   "id": "8d94d5d2-20b2-48e4-b3ed-742db8833ae3",
   "metadata": {},
   "source": [
    "- Turn into a maximization problem\n",
    "- All construaints must be $\\leq$ or =\n",
    "- All varibles should be $\\geq$ 0"
   ]
  },
  {
   "cell_type": "markdown",
   "id": "2c7019b8-c469-44c9-9702-f7dbec96ace0",
   "metadata": {},
   "source": [
    "**Maximize:** "
   ]
  },
  {
   "cell_type": "markdown",
   "id": "b81a27ba-2049-417a-b7fb-67084aee5001",
   "metadata": {},
   "source": [
    "$$ Z = 8X_1 + 10X_2 + 7X_3$$"
   ]
  },
  {
   "cell_type": "markdown",
   "id": "97d892ee-d3c7-4ac9-8412-785e7fd5370e",
   "metadata": {},
   "source": [
    "**Subject to:**"
   ]
  },
  {
   "cell_type": "markdown",
   "id": "3e709ddd-0bb6-413e-8dd4-c79e9c7c51be",
   "metadata": {},
   "source": [
    "$$X_1 + 3X_2 + 2X_3\\leq 10$$"
   ]
  },
  {
   "cell_type": "markdown",
   "id": "18f04b01-a078-4dff-a95f-3b89318ab7fc",
   "metadata": {},
   "source": [
    "$$ X_1 + 5X_2 + X_3 \\leq 8$$"
   ]
  },
  {
   "cell_type": "markdown",
   "id": "9ade28ed-4054-4003-9e77-64ae174eb351",
   "metadata": {},
   "source": [
    "$$ X_1, X_2, X_3 \\geq 0$$"
   ]
  },
  {
   "cell_type": "markdown",
   "id": "a0e54de5-f962-4de5-b667-3730e604dde8",
   "metadata": {},
   "source": [
    "## 2) Determine slack variables"
   ]
  },
  {
   "cell_type": "markdown",
   "id": "de3c94d5-2b10-413a-9899-a0e014af46ae",
   "metadata": {},
   "source": [
    "$$X_1 + 3X_2 + 2X_3 + S_1 \\leq 10$$"
   ]
  },
  {
   "cell_type": "markdown",
   "id": "c13d8547-f7c3-45a8-9759-9e416806c52f",
   "metadata": {},
   "source": [
    "$$ X_1 + 5X_2 + X_3 + S_2 \\leq 8$$"
   ]
  },
  {
   "cell_type": "markdown",
   "id": "613e2c52-73f6-4400-8ce8-4f50b415cee2",
   "metadata": {},
   "source": [
    "## 3) Setting up the Tableau"
   ]
  },
  {
   "cell_type": "markdown",
   "id": "4f79b860-af28-45ad-a54e-142a8054cc55",
   "metadata": {},
   "source": [
    "Columns are: "
   ]
  },
  {
   "cell_type": "markdown",
   "id": "801d7390-6fbe-497a-8680-3ac4e46255dc",
   "metadata": {},
   "source": [
    "$$[X_1, X_2, X_3, S_1, S_2, Z, b]$$"
   ]
  },
  {
   "cell_type": "code",
   "execution_count": 2,
   "id": "2b225dcb-a5fc-4ed4-8253-90de44613c47",
   "metadata": {},
   "outputs": [
    {
     "data": {
      "text/html": [
       "<div>\n",
       "<style scoped>\n",
       "    .dataframe tbody tr th:only-of-type {\n",
       "        vertical-align: middle;\n",
       "    }\n",
       "\n",
       "    .dataframe tbody tr th {\n",
       "        vertical-align: top;\n",
       "    }\n",
       "\n",
       "    .dataframe thead th {\n",
       "        text-align: right;\n",
       "    }\n",
       "</style>\n",
       "<table border=\"1\" class=\"dataframe\">\n",
       "  <thead>\n",
       "    <tr style=\"text-align: right;\">\n",
       "      <th></th>\n",
       "      <th>X1</th>\n",
       "      <th>X2</th>\n",
       "      <th>X3</th>\n",
       "      <th>S1</th>\n",
       "      <th>S2</th>\n",
       "      <th>Z</th>\n",
       "      <th>b</th>\n",
       "    </tr>\n",
       "  </thead>\n",
       "  <tbody>\n",
       "    <tr>\n",
       "      <th>0</th>\n",
       "      <td>1</td>\n",
       "      <td>3</td>\n",
       "      <td>2</td>\n",
       "      <td>1</td>\n",
       "      <td>0</td>\n",
       "      <td>0</td>\n",
       "      <td>10</td>\n",
       "    </tr>\n",
       "    <tr>\n",
       "      <th>1</th>\n",
       "      <td>1</td>\n",
       "      <td>5</td>\n",
       "      <td>1</td>\n",
       "      <td>0</td>\n",
       "      <td>1</td>\n",
       "      <td>0</td>\n",
       "      <td>8</td>\n",
       "    </tr>\n",
       "    <tr>\n",
       "      <th>2</th>\n",
       "      <td>-8</td>\n",
       "      <td>-10</td>\n",
       "      <td>-7</td>\n",
       "      <td>0</td>\n",
       "      <td>0</td>\n",
       "      <td>1</td>\n",
       "      <td>0</td>\n",
       "    </tr>\n",
       "  </tbody>\n",
       "</table>\n",
       "</div>"
      ],
      "text/plain": [
       "   X1  X2  X3  S1  S2  Z   b\n",
       "0   1   3   2   1   0  0  10\n",
       "1   1   5   1   0   1  0   8\n",
       "2  -8 -10  -7   0   0  1   0"
      ]
     },
     "execution_count": 2,
     "metadata": {},
     "output_type": "execute_result"
    }
   ],
   "source": [
    "tableau = pd.DataFrame([\n",
    "           [1, 3, 2, 1, 0, 0, 10],\n",
    "           [1, 5, 1, 0, 1, 0, 8],\n",
    "           [-8, -10, -7, 0, 0, 1, 0]\n",
    "          ], columns = ['X1', 'X2', 'X3', 'S1', 'S2', 'Z', 'b'])\n",
    "tableau"
   ]
  },
  {
   "cell_type": "markdown",
   "id": "1cdea750-44e3-4e31-8176-22041d2b3ee4",
   "metadata": {},
   "source": [
    "## 4) Check Optimality"
   ]
  },
  {
   "cell_type": "markdown",
   "id": "837a2510-7b1d-4a34-85db-8d53f7dd11bb",
   "metadata": {},
   "source": [
    "For a solution to be optimal, all elements in the last row must be $\\geq 0$"
   ]
  },
  {
   "cell_type": "code",
   "execution_count": 3,
   "id": "b2e8d6cd-1dbb-4e84-80c7-86f3ab8ea750",
   "metadata": {},
   "outputs": [
    {
     "name": "stdout",
     "output_type": "stream",
     "text": [
      "Last Row is: [ -8 -10  -7   0   0   1   0]\n",
      "Optimal solution NOT found\n"
     ]
    }
   ],
   "source": [
    "Check_Optimal(tableau)"
   ]
  },
  {
   "cell_type": "markdown",
   "id": "384ed91b-cd1c-4668-85ab-463720d6596f",
   "metadata": {},
   "source": [
    "## 5) Identify Pivot Variable"
   ]
  },
  {
   "cell_type": "code",
   "execution_count": 4,
   "id": "1a68d317-70cd-4163-bda1-50daa24502ba",
   "metadata": {},
   "outputs": [
    {
     "name": "stdout",
     "output_type": "stream",
     "text": [
      "Pivot Column is : X2\n"
     ]
    }
   ],
   "source": [
    "pivot_column = np.argmin(tableau.iloc[-1,:]) # Select pivot column\n",
    "print('Pivot Column is : ' +  tableau.keys()[pivot_column])"
   ]
  },
  {
   "cell_type": "code",
   "execution_count": 5,
   "id": "996a2754-cdc4-4112-b0d4-4c68fd286348",
   "metadata": {},
   "outputs": [
    {
     "data": {
      "text/html": [
       "<div>\n",
       "<style scoped>\n",
       "    .dataframe tbody tr th:only-of-type {\n",
       "        vertical-align: middle;\n",
       "    }\n",
       "\n",
       "    .dataframe tbody tr th {\n",
       "        vertical-align: top;\n",
       "    }\n",
       "\n",
       "    .dataframe thead th {\n",
       "        text-align: right;\n",
       "    }\n",
       "</style>\n",
       "<table border=\"1\" class=\"dataframe\">\n",
       "  <thead>\n",
       "    <tr style=\"text-align: right;\">\n",
       "      <th></th>\n",
       "      <th>X1</th>\n",
       "      <th>X2</th>\n",
       "      <th>X3</th>\n",
       "      <th>S1</th>\n",
       "      <th>S2</th>\n",
       "      <th>Z</th>\n",
       "      <th>b</th>\n",
       "    </tr>\n",
       "  </thead>\n",
       "  <tbody>\n",
       "    <tr>\n",
       "      <th>0</th>\n",
       "      <td>1</td>\n",
       "      <td>3</td>\n",
       "      <td>2</td>\n",
       "      <td>1</td>\n",
       "      <td>0</td>\n",
       "      <td>0</td>\n",
       "      <td>10</td>\n",
       "    </tr>\n",
       "    <tr>\n",
       "      <th>1</th>\n",
       "      <td>1</td>\n",
       "      <td>5</td>\n",
       "      <td>1</td>\n",
       "      <td>0</td>\n",
       "      <td>1</td>\n",
       "      <td>0</td>\n",
       "      <td>8</td>\n",
       "    </tr>\n",
       "    <tr>\n",
       "      <th>2</th>\n",
       "      <td>-8</td>\n",
       "      <td>-10</td>\n",
       "      <td>-7</td>\n",
       "      <td>0</td>\n",
       "      <td>0</td>\n",
       "      <td>1</td>\n",
       "      <td>0</td>\n",
       "    </tr>\n",
       "  </tbody>\n",
       "</table>\n",
       "</div>"
      ],
      "text/plain": [
       "   X1  X2  X3  S1  S2  Z   b\n",
       "0   1   3   2   1   0  0  10\n",
       "1   1   5   1   0   1  0   8\n",
       "2  -8 -10  -7   0   0  1   0"
      ]
     },
     "execution_count": 5,
     "metadata": {},
     "output_type": "execute_result"
    }
   ],
   "source": [
    "tableau"
   ]
  },
  {
   "cell_type": "code",
   "execution_count": 6,
   "id": "846ab067-b863-4f6d-bf98-f5cf081c3721",
   "metadata": {},
   "outputs": [
    {
     "name": "stdout",
     "output_type": "stream",
     "text": [
      "0    3.333333\n",
      "1    1.600000\n",
      "dtype: float64\n",
      "From the X2 column, the pivot variable is in row 1 \n"
     ]
    }
   ],
   "source": [
    "b_index = tableau.iloc[:-1,-1]/tableau.iloc[:-1, pivot_column]  # Divide b by pivot column\n",
    "print(b_index)\n",
    "\n",
    "b_mod = np.where(b_index>=0)[0]\n",
    "\n",
    "row_piv_var = b_mod[np.argmin(b_index[b_mod])] #Row pivot variable\n",
    "print('From the {0} column, the pivot variable is in row {1} '.format(tableau.keys()[pivot_column], row_piv_var))"
   ]
  },
  {
   "cell_type": "markdown",
   "id": "8968cbc0-a06b-4808-b034-0b9f8fee91f3",
   "metadata": {},
   "source": [
    "## 6) Create new Tableau"
   ]
  },
  {
   "cell_type": "markdown",
   "id": "6938802c-6e8d-4ba1-8cb2-d84cb32c00f3",
   "metadata": {},
   "source": [
    "- The Pivot variable will be transformed into 1\n",
    "- All the other variables in the pivot column will be 0\n",
    "- Each new value from the new tableau will be computed as: \n",
    "\n",
    "**New Table Value** = ***Negative Value in old Tableau Pivot Column*** * ***value in new tableau pivot row*** + ***old tableau value***\n"
   ]
  },
  {
   "cell_type": "code",
   "execution_count": 7,
   "id": "fce3e26b-5ad1-486d-9354-0d11972c4d8c",
   "metadata": {},
   "outputs": [
    {
     "name": "stdout",
     "output_type": "stream",
     "text": [
      "Old Tableau\n",
      "    X1  X2  X3  S1  S2  Z   b\n",
      "0   1   3   2   1   0  0  10\n",
      "1   1   5   1   0   1  0   8\n",
      "2  -8 -10  -7   0   0  1   0\n",
      "\n",
      "New Tableau\n",
      "     X1  X2   X3  S1   S2  Z     b\n",
      "0  0.4   0  1.4   1 -0.6  0   5.2\n",
      "1  0.2   1  0.2   0  0.2  0   1.6\n",
      "2 -6.0   0 -5.0   0  2.0  1  16.0\n"
     ]
    }
   ],
   "source": [
    "new_tableau = Get_New_Tableau(tableau, pivot_column, row_piv_var)"
   ]
  },
  {
   "cell_type": "markdown",
   "id": "52947674-c5be-4664-9010-81ab735dd64a",
   "metadata": {},
   "source": [
    "## 4) Check Optimality"
   ]
  },
  {
   "cell_type": "markdown",
   "id": "0cc08942-38e6-4c49-9522-a6e8c60ad3c2",
   "metadata": {},
   "source": [
    "For a solution to be optimal, all elements in the last row must be $\\geq 0$"
   ]
  },
  {
   "cell_type": "code",
   "execution_count": 8,
   "id": "c25eeb73-e685-4009-a920-8ecc325e7e4c",
   "metadata": {},
   "outputs": [],
   "source": [
    "tableau = new_tableau.copy()"
   ]
  },
  {
   "cell_type": "code",
   "execution_count": 9,
   "id": "8e5aa967-a1ab-48a3-9cf7-ab2689c50edd",
   "metadata": {},
   "outputs": [
    {
     "name": "stdout",
     "output_type": "stream",
     "text": [
      "Last Row is: [-6.  0. -5.  0.  2.  1. 16.]\n",
      "Optimal solution NOT found\n"
     ]
    }
   ],
   "source": [
    "Check_Optimal(tableau)"
   ]
  },
  {
   "cell_type": "markdown",
   "id": "aa7de7d8-7fc9-46a2-8a68-a507563816d9",
   "metadata": {},
   "source": [
    "## repeat 5) Identify Pivot Variable"
   ]
  },
  {
   "cell_type": "code",
   "execution_count": 10,
   "id": "a9dde511-7790-4f58-a463-0032283e884c",
   "metadata": {},
   "outputs": [
    {
     "name": "stdout",
     "output_type": "stream",
     "text": [
      "Pivot Column is : X1\n"
     ]
    }
   ],
   "source": [
    "pivot_column = np.argmin(tableau.iloc[-1,:]) # Select pivot column\n",
    "print('Pivot Column is : ' +  tableau.keys()[pivot_column])"
   ]
  },
  {
   "cell_type": "code",
   "execution_count": 11,
   "id": "3b44765f-d4d0-40b2-b117-53e767264242",
   "metadata": {},
   "outputs": [
    {
     "data": {
      "text/html": [
       "<div>\n",
       "<style scoped>\n",
       "    .dataframe tbody tr th:only-of-type {\n",
       "        vertical-align: middle;\n",
       "    }\n",
       "\n",
       "    .dataframe tbody tr th {\n",
       "        vertical-align: top;\n",
       "    }\n",
       "\n",
       "    .dataframe thead th {\n",
       "        text-align: right;\n",
       "    }\n",
       "</style>\n",
       "<table border=\"1\" class=\"dataframe\">\n",
       "  <thead>\n",
       "    <tr style=\"text-align: right;\">\n",
       "      <th></th>\n",
       "      <th>X1</th>\n",
       "      <th>X2</th>\n",
       "      <th>X3</th>\n",
       "      <th>S1</th>\n",
       "      <th>S2</th>\n",
       "      <th>Z</th>\n",
       "      <th>b</th>\n",
       "    </tr>\n",
       "  </thead>\n",
       "  <tbody>\n",
       "    <tr>\n",
       "      <th>0</th>\n",
       "      <td>0.4</td>\n",
       "      <td>0</td>\n",
       "      <td>1.4</td>\n",
       "      <td>1</td>\n",
       "      <td>-0.6</td>\n",
       "      <td>0</td>\n",
       "      <td>5.2</td>\n",
       "    </tr>\n",
       "    <tr>\n",
       "      <th>1</th>\n",
       "      <td>0.2</td>\n",
       "      <td>1</td>\n",
       "      <td>0.2</td>\n",
       "      <td>0</td>\n",
       "      <td>0.2</td>\n",
       "      <td>0</td>\n",
       "      <td>1.6</td>\n",
       "    </tr>\n",
       "    <tr>\n",
       "      <th>2</th>\n",
       "      <td>-6.0</td>\n",
       "      <td>0</td>\n",
       "      <td>-5.0</td>\n",
       "      <td>0</td>\n",
       "      <td>2.0</td>\n",
       "      <td>1</td>\n",
       "      <td>16.0</td>\n",
       "    </tr>\n",
       "  </tbody>\n",
       "</table>\n",
       "</div>"
      ],
      "text/plain": [
       "    X1  X2   X3  S1   S2  Z     b\n",
       "0  0.4   0  1.4   1 -0.6  0   5.2\n",
       "1  0.2   1  0.2   0  0.2  0   1.6\n",
       "2 -6.0   0 -5.0   0  2.0  1  16.0"
      ]
     },
     "execution_count": 11,
     "metadata": {},
     "output_type": "execute_result"
    }
   ],
   "source": [
    "tableau"
   ]
  },
  {
   "cell_type": "code",
   "execution_count": 12,
   "id": "efe09bbe-20c3-4ff5-8363-ddf986176069",
   "metadata": {},
   "outputs": [
    {
     "name": "stdout",
     "output_type": "stream",
     "text": [
      "0    13.0\n",
      "1     8.0\n",
      "dtype: float64\n",
      "From the X1 column, the pivot variable is in row 1 \n"
     ]
    }
   ],
   "source": [
    "b_index = tableau.iloc[:-1,-1]/tableau.iloc[:-1, pivot_column]  # Divide b by pivot column\n",
    "print(b_index)\n",
    "\n",
    "b_mod = np.where(b_index>=0)[0]\n",
    "\n",
    "row_piv_var = b_mod[np.argmin(b_index[b_mod])] #Row pivot variable\n",
    "print('From the {0} column, the pivot variable is in row {1} '.format(tableau.keys()[pivot_column], row_piv_var))"
   ]
  },
  {
   "cell_type": "markdown",
   "id": "6206b42d-5c36-4de3-a681-2924cd917fa4",
   "metadata": {},
   "source": [
    "## repeat 6) Create new Tableau"
   ]
  },
  {
   "cell_type": "code",
   "execution_count": 13,
   "id": "74f7c9f7-46d8-4eb0-af4f-31256a6db2c8",
   "metadata": {},
   "outputs": [
    {
     "name": "stdout",
     "output_type": "stream",
     "text": [
      "Old Tableau\n",
      "     X1  X2   X3  S1   S2  Z     b\n",
      "0  0.4   0  1.4   1 -0.6  0   5.2\n",
      "1  0.2   1  0.2   0  0.2  0   1.6\n",
      "2 -6.0   0 -5.0   0  2.0  1  16.0\n",
      "\n",
      "New Tableau\n",
      "    X1    X2   X3  S1   S2  Z     b\n",
      "0   0  -2.0  1.0   1 -1.0  0   2.0\n",
      "1   1   5.0  1.0   0  1.0  0   8.0\n",
      "2   0  30.0  1.0   0  8.0  1  64.0\n"
     ]
    }
   ],
   "source": [
    "new_tableau = Get_New_Tableau(tableau, pivot_column, row_piv_var)"
   ]
  },
  {
   "cell_type": "markdown",
   "id": "406078b3-995a-42b2-9118-82367fe2d141",
   "metadata": {},
   "source": [
    "## repeat 4) Check Optimality"
   ]
  },
  {
   "cell_type": "markdown",
   "id": "27b682e4-c272-479e-9fbc-e6265b6df45a",
   "metadata": {},
   "source": [
    "For a solution to be optimal, all elements in the last row must be $\\geq 0$"
   ]
  },
  {
   "cell_type": "code",
   "execution_count": 14,
   "id": "2e2e4ddc-f590-47db-a4c3-bc6a6b4e711b",
   "metadata": {},
   "outputs": [],
   "source": [
    "tableau = new_tableau.copy()"
   ]
  },
  {
   "cell_type": "code",
   "execution_count": 15,
   "id": "686c7453-3a75-419d-a2fc-c5fcb085d826",
   "metadata": {},
   "outputs": [
    {
     "name": "stdout",
     "output_type": "stream",
     "text": [
      "Last Row is: [ 0. 30.  1.  0.  8.  1. 64.]\n",
      "Optimal solution found\n"
     ]
    }
   ],
   "source": [
    "Check_Optimal(tableau)"
   ]
  },
  {
   "cell_type": "code",
   "execution_count": 16,
   "id": "a03b028c-debe-4263-a90f-30752d133b53",
   "metadata": {},
   "outputs": [
    {
     "name": "stdout",
     "output_type": "stream",
     "text": [
      "Optimal solution found\n",
      "Basic Variables: ['X1', 'S1', 'Z']\n",
      "Non Basic Variables: ['X2', 'X3', 'S2', 'b']\n"
     ]
    },
    {
     "data": {
      "text/html": [
       "<div>\n",
       "<style scoped>\n",
       "    .dataframe tbody tr th:only-of-type {\n",
       "        vertical-align: middle;\n",
       "    }\n",
       "\n",
       "    .dataframe tbody tr th {\n",
       "        vertical-align: top;\n",
       "    }\n",
       "\n",
       "    .dataframe thead th {\n",
       "        text-align: right;\n",
       "    }\n",
       "</style>\n",
       "<table border=\"1\" class=\"dataframe\">\n",
       "  <thead>\n",
       "    <tr style=\"text-align: right;\">\n",
       "      <th></th>\n",
       "      <th>X1</th>\n",
       "      <th>X2</th>\n",
       "      <th>X3</th>\n",
       "      <th>S1</th>\n",
       "      <th>S2</th>\n",
       "      <th>Z</th>\n",
       "      <th>b</th>\n",
       "    </tr>\n",
       "  </thead>\n",
       "  <tbody>\n",
       "    <tr>\n",
       "      <th>0</th>\n",
       "      <td>8.0</td>\n",
       "      <td>0</td>\n",
       "      <td>0</td>\n",
       "      <td>2.0</td>\n",
       "      <td>0</td>\n",
       "      <td>64.0</td>\n",
       "      <td>0</td>\n",
       "    </tr>\n",
       "  </tbody>\n",
       "</table>\n",
       "</div>"
      ],
      "text/plain": [
       "    X1  X2  X3   S1  S2     Z  b\n",
       "0  8.0   0   0  2.0   0  64.0  0"
      ]
     },
     "execution_count": 16,
     "metadata": {},
     "output_type": "execute_result"
    }
   ],
   "source": [
    "optimal_solution = Get_Optimal_Result(tableau)\n",
    "\n",
    "optimal_solution"
   ]
  },
  {
   "cell_type": "code",
   "execution_count": null,
   "id": "74a82ff8-4e13-4d47-ac83-b476c948778d",
   "metadata": {},
   "outputs": [],
   "source": []
  }
 ],
 "metadata": {
  "kernelspec": {
   "display_name": "Python 3 (ipykernel)",
   "language": "python",
   "name": "python3"
  },
  "language_info": {
   "codemirror_mode": {
    "name": "ipython",
    "version": 3
   },
   "file_extension": ".py",
   "mimetype": "text/x-python",
   "name": "python",
   "nbconvert_exporter": "python",
   "pygments_lexer": "ipython3",
   "version": "3.8.0"
  }
 },
 "nbformat": 4,
 "nbformat_minor": 5
}
