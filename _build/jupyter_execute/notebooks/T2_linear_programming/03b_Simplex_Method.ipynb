{
 "cells": [
  {
   "cell_type": "code",
   "execution_count": 1,
   "id": "fca4f907-3627-4200-b65e-cc661c72d870",
   "metadata": {},
   "outputs": [],
   "source": [
    "import warnings\n",
    "warnings.filterwarnings('ignore')\n",
    "\n",
    "import numpy as np\n",
    "import pandas as pd\n",
    "\n",
    "from simplex_method_geocean import Get_New_Tableau, Check_Optimal, Get_Optimal_Result"
   ]
  },
  {
   "cell_type": "markdown",
   "id": "0e795c57-8d1c-4989-8f09-d46ed2e36b42",
   "metadata": {},
   "source": [
    "# SIMPLEX Method - Ex2"
   ]
  },
  {
   "cell_type": "markdown",
   "id": "c93d1c54-2c56-41b6-9ed4-891fa6a26513",
   "metadata": {},
   "source": [
    "The **Simplex** method is an approach to solving linear programming by hand using slack variables, tableaus and pivot variables as a means to finding the optimal solution."
   ]
  },
  {
   "cell_type": "markdown",
   "id": "d3ef1c80-58cd-4705-8978-37bb508f2a4f",
   "metadata": {},
   "source": [
    "**Maximize:** "
   ]
  },
  {
   "cell_type": "markdown",
   "id": "50bcb37b-d156-4c2c-81a9-fa5578ca5305",
   "metadata": {},
   "source": [
    "$$ Z = 4X_1 + 6X_2$$"
   ]
  },
  {
   "cell_type": "markdown",
   "id": "6b1b2dd4-c9b6-4dad-9167-9d300b67c5b0",
   "metadata": {},
   "source": [
    "**Subject to:**"
   ]
  },
  {
   "cell_type": "markdown",
   "id": "adfa2037-e00c-4430-a77a-8c65f284801f",
   "metadata": {},
   "source": [
    "$$-X_1 + X_2 \\leq 11$$"
   ]
  },
  {
   "cell_type": "markdown",
   "id": "5caba031-797f-4bc9-b591-7e162215151d",
   "metadata": {},
   "source": [
    "$$ X_1 + X_2 \\leq 27$$"
   ]
  },
  {
   "cell_type": "markdown",
   "id": "2cc1cb8d-17e4-4898-b7c0-fde869c0e916",
   "metadata": {},
   "source": [
    "$$ 2X_1 + 5X_2 \\leq 90$$"
   ]
  },
  {
   "cell_type": "markdown",
   "id": "3fa291df-b325-4ec2-a1a5-f8f0cd5b4e82",
   "metadata": {},
   "source": [
    "$$ X_1, X_2 \\geq 0$$"
   ]
  },
  {
   "cell_type": "markdown",
   "id": "b05ea3e2-7467-44c2-b936-a80ed60bf258",
   "metadata": {},
   "source": [
    "## 1) Standarized Form"
   ]
  },
  {
   "cell_type": "markdown",
   "id": "8d94d5d2-20b2-48e4-b3ed-742db8833ae3",
   "metadata": {},
   "source": [
    "- Turn into a maximization problem\n",
    "- All construaints must be $\\leq$ or =\n",
    "- All varibles should be $\\geq$ 0"
   ]
  },
  {
   "cell_type": "markdown",
   "id": "b3b7f837-6327-4d52-b34c-0b6ba2cc2014",
   "metadata": {},
   "source": [
    "**Maximize:** "
   ]
  },
  {
   "cell_type": "markdown",
   "id": "31d3989e-f3b4-4e38-9fa6-ded32f5e3b22",
   "metadata": {},
   "source": [
    "$$ Z = 4X_1 + 6X_2$$"
   ]
  },
  {
   "cell_type": "markdown",
   "id": "859f006d-bf8d-4c0f-a812-293f064989f7",
   "metadata": {},
   "source": [
    "**Subject to:**"
   ]
  },
  {
   "cell_type": "markdown",
   "id": "9d4e4acb-4944-4240-8cc9-55fdecfe3fac",
   "metadata": {},
   "source": [
    "$$-X_1 + X_2 \\leq 11$$"
   ]
  },
  {
   "cell_type": "markdown",
   "id": "fe17d03f-cdb8-4ad9-bf6d-5ef13f82d565",
   "metadata": {},
   "source": [
    "$$ X_1 + X_2 \\leq 27$$"
   ]
  },
  {
   "cell_type": "markdown",
   "id": "015b7f49-9203-4978-a1f8-c8ee3f071ae7",
   "metadata": {},
   "source": [
    "$$ 2X_1 + 5X_2 \\leq 90$$"
   ]
  },
  {
   "cell_type": "markdown",
   "id": "5fb33e81-b41f-455a-bdf2-03f7918c20e4",
   "metadata": {},
   "source": [
    "$$ X_1, X_2 \\geq 0$$"
   ]
  },
  {
   "cell_type": "markdown",
   "id": "a0e54de5-f962-4de5-b667-3730e604dde8",
   "metadata": {},
   "source": [
    "## 2) Determine slack variables"
   ]
  },
  {
   "cell_type": "markdown",
   "id": "9ab863f3-a99a-439f-a7ab-77913b06f6e0",
   "metadata": {},
   "source": [
    "$$-X_1 + X_2 + S_1 \\leq 11$$"
   ]
  },
  {
   "cell_type": "markdown",
   "id": "8c839a82-a269-45f5-9472-58171d7a3a54",
   "metadata": {},
   "source": [
    "$$ X_1 + X_2 + S_2\\leq 27$$"
   ]
  },
  {
   "cell_type": "markdown",
   "id": "0d485c94-b302-4cdc-9c78-bd9d6d5ef43e",
   "metadata": {},
   "source": [
    "$$ 2X_1 + 5X_2 + S_3 \\leq 90$$"
   ]
  },
  {
   "cell_type": "markdown",
   "id": "613e2c52-73f6-4400-8ce8-4f50b415cee2",
   "metadata": {},
   "source": [
    "## 3) Setting up the Tableau"
   ]
  },
  {
   "cell_type": "code",
   "execution_count": 2,
   "id": "2b225dcb-a5fc-4ed4-8253-90de44613c47",
   "metadata": {},
   "outputs": [
    {
     "data": {
      "text/html": [
       "<div>\n",
       "<style scoped>\n",
       "    .dataframe tbody tr th:only-of-type {\n",
       "        vertical-align: middle;\n",
       "    }\n",
       "\n",
       "    .dataframe tbody tr th {\n",
       "        vertical-align: top;\n",
       "    }\n",
       "\n",
       "    .dataframe thead th {\n",
       "        text-align: right;\n",
       "    }\n",
       "</style>\n",
       "<table border=\"1\" class=\"dataframe\">\n",
       "  <thead>\n",
       "    <tr style=\"text-align: right;\">\n",
       "      <th></th>\n",
       "      <th>X1</th>\n",
       "      <th>X2</th>\n",
       "      <th>S1</th>\n",
       "      <th>S2</th>\n",
       "      <th>S3</th>\n",
       "      <th>b</th>\n",
       "    </tr>\n",
       "  </thead>\n",
       "  <tbody>\n",
       "    <tr>\n",
       "      <th>0</th>\n",
       "      <td>-1</td>\n",
       "      <td>1</td>\n",
       "      <td>1</td>\n",
       "      <td>0</td>\n",
       "      <td>0</td>\n",
       "      <td>11</td>\n",
       "    </tr>\n",
       "    <tr>\n",
       "      <th>1</th>\n",
       "      <td>1</td>\n",
       "      <td>1</td>\n",
       "      <td>0</td>\n",
       "      <td>1</td>\n",
       "      <td>0</td>\n",
       "      <td>27</td>\n",
       "    </tr>\n",
       "    <tr>\n",
       "      <th>2</th>\n",
       "      <td>2</td>\n",
       "      <td>5</td>\n",
       "      <td>0</td>\n",
       "      <td>0</td>\n",
       "      <td>1</td>\n",
       "      <td>90</td>\n",
       "    </tr>\n",
       "    <tr>\n",
       "      <th>3</th>\n",
       "      <td>-4</td>\n",
       "      <td>-6</td>\n",
       "      <td>0</td>\n",
       "      <td>0</td>\n",
       "      <td>0</td>\n",
       "      <td>0</td>\n",
       "    </tr>\n",
       "  </tbody>\n",
       "</table>\n",
       "</div>"
      ],
      "text/plain": [
       "   X1  X2  S1  S2  S3   b\n",
       "0  -1   1   1   0   0  11\n",
       "1   1   1   0   1   0  27\n",
       "2   2   5   0   0   1  90\n",
       "3  -4  -6   0   0   0   0"
      ]
     },
     "execution_count": 2,
     "metadata": {},
     "output_type": "execute_result"
    }
   ],
   "source": [
    "tableau = pd.DataFrame([\n",
    "           [-1, 1, 1, 0, 0, 11],\n",
    "           [1, 1, 0, 1, 0, 27],\n",
    "           [2, 5, 0, 0, 1, 90],\n",
    "           [-4, -6, 0, 0, 0, 0]\n",
    "          ], columns = ['X1', 'X2', 'S1', 'S2', 'S3', 'b'])\n",
    "tableau"
   ]
  },
  {
   "cell_type": "markdown",
   "id": "1cdea750-44e3-4e31-8176-22041d2b3ee4",
   "metadata": {},
   "source": [
    "## 4) Check Optimality"
   ]
  },
  {
   "cell_type": "markdown",
   "id": "837a2510-7b1d-4a34-85db-8d53f7dd11bb",
   "metadata": {},
   "source": [
    "For a solution to be optimal, all elements in the last row must be $\\geq 0$"
   ]
  },
  {
   "cell_type": "code",
   "execution_count": 3,
   "id": "b2e8d6cd-1dbb-4e84-80c7-86f3ab8ea750",
   "metadata": {},
   "outputs": [
    {
     "name": "stdout",
     "output_type": "stream",
     "text": [
      "Last Row is: [-4 -6  0  0  0  0]\n",
      "Optimal solution NOT found\n"
     ]
    }
   ],
   "source": [
    "Check_Optimal(tableau)"
   ]
  },
  {
   "cell_type": "markdown",
   "id": "384ed91b-cd1c-4668-85ab-463720d6596f",
   "metadata": {},
   "source": [
    "## 5) Identify Pivot Variable"
   ]
  },
  {
   "cell_type": "code",
   "execution_count": 4,
   "id": "1a68d317-70cd-4163-bda1-50daa24502ba",
   "metadata": {},
   "outputs": [
    {
     "name": "stdout",
     "output_type": "stream",
     "text": [
      "Pivot Column is : X2\n"
     ]
    }
   ],
   "source": [
    "pivot_column = np.argmin(tableau.iloc[-1,:]) # Select pivot column\n",
    "print('Pivot Column is : ' +  tableau.keys()[pivot_column])"
   ]
  },
  {
   "cell_type": "code",
   "execution_count": 5,
   "id": "996a2754-cdc4-4112-b0d4-4c68fd286348",
   "metadata": {},
   "outputs": [
    {
     "data": {
      "text/html": [
       "<div>\n",
       "<style scoped>\n",
       "    .dataframe tbody tr th:only-of-type {\n",
       "        vertical-align: middle;\n",
       "    }\n",
       "\n",
       "    .dataframe tbody tr th {\n",
       "        vertical-align: top;\n",
       "    }\n",
       "\n",
       "    .dataframe thead th {\n",
       "        text-align: right;\n",
       "    }\n",
       "</style>\n",
       "<table border=\"1\" class=\"dataframe\">\n",
       "  <thead>\n",
       "    <tr style=\"text-align: right;\">\n",
       "      <th></th>\n",
       "      <th>X1</th>\n",
       "      <th>X2</th>\n",
       "      <th>S1</th>\n",
       "      <th>S2</th>\n",
       "      <th>S3</th>\n",
       "      <th>b</th>\n",
       "    </tr>\n",
       "  </thead>\n",
       "  <tbody>\n",
       "    <tr>\n",
       "      <th>0</th>\n",
       "      <td>-1</td>\n",
       "      <td>1</td>\n",
       "      <td>1</td>\n",
       "      <td>0</td>\n",
       "      <td>0</td>\n",
       "      <td>11</td>\n",
       "    </tr>\n",
       "    <tr>\n",
       "      <th>1</th>\n",
       "      <td>1</td>\n",
       "      <td>1</td>\n",
       "      <td>0</td>\n",
       "      <td>1</td>\n",
       "      <td>0</td>\n",
       "      <td>27</td>\n",
       "    </tr>\n",
       "    <tr>\n",
       "      <th>2</th>\n",
       "      <td>2</td>\n",
       "      <td>5</td>\n",
       "      <td>0</td>\n",
       "      <td>0</td>\n",
       "      <td>1</td>\n",
       "      <td>90</td>\n",
       "    </tr>\n",
       "    <tr>\n",
       "      <th>3</th>\n",
       "      <td>-4</td>\n",
       "      <td>-6</td>\n",
       "      <td>0</td>\n",
       "      <td>0</td>\n",
       "      <td>0</td>\n",
       "      <td>0</td>\n",
       "    </tr>\n",
       "  </tbody>\n",
       "</table>\n",
       "</div>"
      ],
      "text/plain": [
       "   X1  X2  S1  S2  S3   b\n",
       "0  -1   1   1   0   0  11\n",
       "1   1   1   0   1   0  27\n",
       "2   2   5   0   0   1  90\n",
       "3  -4  -6   0   0   0   0"
      ]
     },
     "execution_count": 5,
     "metadata": {},
     "output_type": "execute_result"
    }
   ],
   "source": [
    "tableau"
   ]
  },
  {
   "cell_type": "code",
   "execution_count": 6,
   "id": "846ab067-b863-4f6d-bf98-f5cf081c3721",
   "metadata": {},
   "outputs": [
    {
     "name": "stdout",
     "output_type": "stream",
     "text": [
      "0    11.0\n",
      "1    27.0\n",
      "2    18.0\n",
      "dtype: float64\n",
      "From the X2 column, the pivot variable is in row 0 \n"
     ]
    }
   ],
   "source": [
    "b_index = tableau.iloc[:-1,-1]/tableau.iloc[:-1, pivot_column]  # Divide b by pivot column\n",
    "print(b_index)\n",
    "\n",
    "b_mod = np.where(b_index>=0)[0]\n",
    "row_piv_var = b_mod[np.argmin(b_index[b_mod])] #Row pivot variable\n",
    "\n",
    "print('From the {0} column, the pivot variable is in row {1} '.format(tableau.keys()[pivot_column], row_piv_var))"
   ]
  },
  {
   "cell_type": "markdown",
   "id": "8968cbc0-a06b-4808-b034-0b9f8fee91f3",
   "metadata": {},
   "source": [
    "## 6) Create new Tableau"
   ]
  },
  {
   "cell_type": "markdown",
   "id": "6938802c-6e8d-4ba1-8cb2-d84cb32c00f3",
   "metadata": {},
   "source": [
    "- The Pivot variable will be transformed into 1\n",
    "- All the other variables in the pivot column will be 0\n",
    "- Each new value from the new tableau will be computed as: \n",
    "\n",
    "**New Table Value** = ***Negative Value in old Tableau Pivot Column*** * ***value in new tableau pivot row*** + ***old tableau value***\n"
   ]
  },
  {
   "cell_type": "code",
   "execution_count": 7,
   "id": "fce3e26b-5ad1-486d-9354-0d11972c4d8c",
   "metadata": {},
   "outputs": [
    {
     "name": "stdout",
     "output_type": "stream",
     "text": [
      "Old Tableau\n",
      "    X1  X2  S1  S2  S3   b\n",
      "0  -1   1   1   0   0  11\n",
      "1   1   1   0   1   0  27\n",
      "2   2   5   0   0   1  90\n",
      "3  -4  -6   0   0   0   0\n",
      "\n",
      "New Tableau\n",
      "    X1  X2  S1  S2  S3   b\n",
      "0  -1   1   1   0   0  11\n",
      "1   2   0  -1   1   0  16\n",
      "2   7   0  -5   0   1  35\n",
      "3 -10   0   6   0   0  66\n"
     ]
    }
   ],
   "source": [
    "new_tableau = Get_New_Tableau(tableau, pivot_column, row_piv_var)"
   ]
  },
  {
   "cell_type": "markdown",
   "id": "52947674-c5be-4664-9010-81ab735dd64a",
   "metadata": {},
   "source": [
    "## 4) Check Optimality"
   ]
  },
  {
   "cell_type": "markdown",
   "id": "0cc08942-38e6-4c49-9522-a6e8c60ad3c2",
   "metadata": {},
   "source": [
    "For a solution to be optimal, all elements in the last row must be $\\geq 0$"
   ]
  },
  {
   "cell_type": "code",
   "execution_count": 8,
   "id": "c25eeb73-e685-4009-a920-8ecc325e7e4c",
   "metadata": {},
   "outputs": [],
   "source": [
    "tableau = new_tableau.copy()"
   ]
  },
  {
   "cell_type": "code",
   "execution_count": 9,
   "id": "8e5aa967-a1ab-48a3-9cf7-ab2689c50edd",
   "metadata": {},
   "outputs": [
    {
     "name": "stdout",
     "output_type": "stream",
     "text": [
      "Last Row is: [-10   0   6   0   0  66]\n",
      "Optimal solution NOT found\n"
     ]
    }
   ],
   "source": [
    "Check_Optimal(tableau)"
   ]
  },
  {
   "cell_type": "markdown",
   "id": "aa7de7d8-7fc9-46a2-8a68-a507563816d9",
   "metadata": {},
   "source": [
    "## repeat 5) Identify Pivot Variable"
   ]
  },
  {
   "cell_type": "code",
   "execution_count": 10,
   "id": "a9dde511-7790-4f58-a463-0032283e884c",
   "metadata": {},
   "outputs": [
    {
     "name": "stdout",
     "output_type": "stream",
     "text": [
      "Pivot Column is : X1\n"
     ]
    }
   ],
   "source": [
    "pivot_column = np.argmin(tableau.iloc[-1,:]) # Select pivot column\n",
    "print('Pivot Column is : ' +  tableau.keys()[pivot_column])"
   ]
  },
  {
   "cell_type": "code",
   "execution_count": 11,
   "id": "3b44765f-d4d0-40b2-b117-53e767264242",
   "metadata": {},
   "outputs": [
    {
     "data": {
      "text/html": [
       "<div>\n",
       "<style scoped>\n",
       "    .dataframe tbody tr th:only-of-type {\n",
       "        vertical-align: middle;\n",
       "    }\n",
       "\n",
       "    .dataframe tbody tr th {\n",
       "        vertical-align: top;\n",
       "    }\n",
       "\n",
       "    .dataframe thead th {\n",
       "        text-align: right;\n",
       "    }\n",
       "</style>\n",
       "<table border=\"1\" class=\"dataframe\">\n",
       "  <thead>\n",
       "    <tr style=\"text-align: right;\">\n",
       "      <th></th>\n",
       "      <th>X1</th>\n",
       "      <th>X2</th>\n",
       "      <th>S1</th>\n",
       "      <th>S2</th>\n",
       "      <th>S3</th>\n",
       "      <th>b</th>\n",
       "    </tr>\n",
       "  </thead>\n",
       "  <tbody>\n",
       "    <tr>\n",
       "      <th>0</th>\n",
       "      <td>-1</td>\n",
       "      <td>1</td>\n",
       "      <td>1</td>\n",
       "      <td>0</td>\n",
       "      <td>0</td>\n",
       "      <td>11</td>\n",
       "    </tr>\n",
       "    <tr>\n",
       "      <th>1</th>\n",
       "      <td>2</td>\n",
       "      <td>0</td>\n",
       "      <td>-1</td>\n",
       "      <td>1</td>\n",
       "      <td>0</td>\n",
       "      <td>16</td>\n",
       "    </tr>\n",
       "    <tr>\n",
       "      <th>2</th>\n",
       "      <td>7</td>\n",
       "      <td>0</td>\n",
       "      <td>-5</td>\n",
       "      <td>0</td>\n",
       "      <td>1</td>\n",
       "      <td>35</td>\n",
       "    </tr>\n",
       "    <tr>\n",
       "      <th>3</th>\n",
       "      <td>-10</td>\n",
       "      <td>0</td>\n",
       "      <td>6</td>\n",
       "      <td>0</td>\n",
       "      <td>0</td>\n",
       "      <td>66</td>\n",
       "    </tr>\n",
       "  </tbody>\n",
       "</table>\n",
       "</div>"
      ],
      "text/plain": [
       "   X1  X2  S1  S2  S3   b\n",
       "0  -1   1   1   0   0  11\n",
       "1   2   0  -1   1   0  16\n",
       "2   7   0  -5   0   1  35\n",
       "3 -10   0   6   0   0  66"
      ]
     },
     "execution_count": 11,
     "metadata": {},
     "output_type": "execute_result"
    }
   ],
   "source": [
    "tableau"
   ]
  },
  {
   "cell_type": "code",
   "execution_count": 12,
   "id": "efe09bbe-20c3-4ff5-8363-ddf986176069",
   "metadata": {},
   "outputs": [
    {
     "name": "stdout",
     "output_type": "stream",
     "text": [
      "0   -11.0\n",
      "1     8.0\n",
      "2     5.0\n",
      "dtype: float64\n",
      "From the X1 column, the pivot variable is in row 2 \n"
     ]
    }
   ],
   "source": [
    "b_index = tableau.iloc[:-1,-1]/tableau.iloc[:-1, pivot_column]  # Divide b by pivot column\n",
    "print(b_index)\n",
    "\n",
    "b_mod = np.where(b_index>=0)[0]\n",
    "\n",
    "row_piv_var = b_mod[np.argmin(b_index[b_mod])] #Row pivot variable\n",
    "print('From the {0} column, the pivot variable is in row {1} '.format(tableau.keys()[pivot_column], row_piv_var))"
   ]
  },
  {
   "cell_type": "markdown",
   "id": "6206b42d-5c36-4de3-a681-2924cd917fa4",
   "metadata": {},
   "source": [
    "## repeat 6) Create new Tableau"
   ]
  },
  {
   "cell_type": "code",
   "execution_count": 13,
   "id": "74f7c9f7-46d8-4eb0-af4f-31256a6db2c8",
   "metadata": {},
   "outputs": [
    {
     "name": "stdout",
     "output_type": "stream",
     "text": [
      "Old Tableau\n",
      "    X1  X2  S1  S2  S3   b\n",
      "0  -1   1   1   0   0  11\n",
      "1   2   0  -1   1   0  16\n",
      "2   7   0  -5   0   1  35\n",
      "3 -10   0   6   0   0  66\n",
      "\n",
      "New Tableau\n",
      "    X1  X2        S1  S2        S3    b\n",
      "0   0   1  0.285714   0  0.142857   16\n",
      "1   0   0  0.428571   1 -0.285714    6\n",
      "2   1   0 -0.714286   0  0.142857    5\n",
      "3   0   0 -1.142857   0  1.428571  116\n"
     ]
    }
   ],
   "source": [
    "new_tableau = Get_New_Tableau(tableau, pivot_column, row_piv_var)"
   ]
  },
  {
   "cell_type": "markdown",
   "id": "406078b3-995a-42b2-9118-82367fe2d141",
   "metadata": {},
   "source": [
    "## repeat 4) Check Optimality"
   ]
  },
  {
   "cell_type": "markdown",
   "id": "27b682e4-c272-479e-9fbc-e6265b6df45a",
   "metadata": {},
   "source": [
    "For a solution to be optimal, all elements in the last row must be $\\geq 0$"
   ]
  },
  {
   "cell_type": "code",
   "execution_count": 14,
   "id": "2e2e4ddc-f590-47db-a4c3-bc6a6b4e711b",
   "metadata": {},
   "outputs": [],
   "source": [
    "tableau = new_tableau.copy()"
   ]
  },
  {
   "cell_type": "code",
   "execution_count": 15,
   "id": "686c7453-3a75-419d-a2fc-c5fcb085d826",
   "metadata": {},
   "outputs": [
    {
     "name": "stdout",
     "output_type": "stream",
     "text": [
      "Last Row is: [  0.           0.          -1.14285714   0.           1.42857143\n",
      " 116.        ]\n",
      "Optimal solution NOT found\n"
     ]
    }
   ],
   "source": [
    "Check_Optimal(tableau)"
   ]
  },
  {
   "cell_type": "markdown",
   "id": "ba081b65-dd74-420e-8e6c-60955f61186d",
   "metadata": {},
   "source": [
    "## repeat 5) Identify Pivot Variable"
   ]
  },
  {
   "cell_type": "code",
   "execution_count": 16,
   "id": "6bad686a-54a8-468b-aad3-0e92e5fcff56",
   "metadata": {},
   "outputs": [
    {
     "name": "stdout",
     "output_type": "stream",
     "text": [
      "Pivot Column is : S1\n"
     ]
    }
   ],
   "source": [
    "pivot_column = np.argmin(tableau.iloc[-1,:]) # Select pivot column\n",
    "print('Pivot Column is : ' +  tableau.keys()[pivot_column])"
   ]
  },
  {
   "cell_type": "code",
   "execution_count": 17,
   "id": "2b63f11b-7568-4a7c-8bef-d164feb79279",
   "metadata": {},
   "outputs": [
    {
     "data": {
      "text/html": [
       "<div>\n",
       "<style scoped>\n",
       "    .dataframe tbody tr th:only-of-type {\n",
       "        vertical-align: middle;\n",
       "    }\n",
       "\n",
       "    .dataframe tbody tr th {\n",
       "        vertical-align: top;\n",
       "    }\n",
       "\n",
       "    .dataframe thead th {\n",
       "        text-align: right;\n",
       "    }\n",
       "</style>\n",
       "<table border=\"1\" class=\"dataframe\">\n",
       "  <thead>\n",
       "    <tr style=\"text-align: right;\">\n",
       "      <th></th>\n",
       "      <th>X1</th>\n",
       "      <th>X2</th>\n",
       "      <th>S1</th>\n",
       "      <th>S2</th>\n",
       "      <th>S3</th>\n",
       "      <th>b</th>\n",
       "    </tr>\n",
       "  </thead>\n",
       "  <tbody>\n",
       "    <tr>\n",
       "      <th>0</th>\n",
       "      <td>0</td>\n",
       "      <td>1</td>\n",
       "      <td>0.285714</td>\n",
       "      <td>0</td>\n",
       "      <td>0.142857</td>\n",
       "      <td>16</td>\n",
       "    </tr>\n",
       "    <tr>\n",
       "      <th>1</th>\n",
       "      <td>0</td>\n",
       "      <td>0</td>\n",
       "      <td>0.428571</td>\n",
       "      <td>1</td>\n",
       "      <td>-0.285714</td>\n",
       "      <td>6</td>\n",
       "    </tr>\n",
       "    <tr>\n",
       "      <th>2</th>\n",
       "      <td>1</td>\n",
       "      <td>0</td>\n",
       "      <td>-0.714286</td>\n",
       "      <td>0</td>\n",
       "      <td>0.142857</td>\n",
       "      <td>5</td>\n",
       "    </tr>\n",
       "    <tr>\n",
       "      <th>3</th>\n",
       "      <td>0</td>\n",
       "      <td>0</td>\n",
       "      <td>-1.142857</td>\n",
       "      <td>0</td>\n",
       "      <td>1.428571</td>\n",
       "      <td>116</td>\n",
       "    </tr>\n",
       "  </tbody>\n",
       "</table>\n",
       "</div>"
      ],
      "text/plain": [
       "   X1  X2        S1  S2        S3    b\n",
       "0   0   1  0.285714   0  0.142857   16\n",
       "1   0   0  0.428571   1 -0.285714    6\n",
       "2   1   0 -0.714286   0  0.142857    5\n",
       "3   0   0 -1.142857   0  1.428571  116"
      ]
     },
     "execution_count": 17,
     "metadata": {},
     "output_type": "execute_result"
    }
   ],
   "source": [
    "tableau"
   ]
  },
  {
   "cell_type": "code",
   "execution_count": 18,
   "id": "1294c616-f6bd-4258-95dc-6f9d79e38068",
   "metadata": {},
   "outputs": [
    {
     "name": "stdout",
     "output_type": "stream",
     "text": [
      "0    56.0\n",
      "1    14.0\n",
      "2    -7.0\n",
      "dtype: float64\n",
      "From the S1 column, the pivot variable is in row 1 \n"
     ]
    }
   ],
   "source": [
    "b_index = tableau.iloc[:-1,-1]/tableau.iloc[:-1, pivot_column]  # Divide b by pivot column\n",
    "print(b_index)\n",
    "\n",
    "b_mod = np.where(b_index>=0)[0]\n",
    "\n",
    "row_piv_var = b_mod[np.argmin(b_index[b_mod])] #Row pivot variable\n",
    "print('From the {0} column, the pivot variable is in row {1} '.format(tableau.keys()[pivot_column], row_piv_var))"
   ]
  },
  {
   "cell_type": "markdown",
   "id": "cde171ef-dd62-44df-a920-30264e73a8a8",
   "metadata": {},
   "source": [
    "## repeat 6) Create new Tableau"
   ]
  },
  {
   "cell_type": "code",
   "execution_count": 19,
   "id": "69167d00-1b16-4068-80f1-85c746900983",
   "metadata": {},
   "outputs": [
    {
     "name": "stdout",
     "output_type": "stream",
     "text": [
      "Old Tableau\n",
      "    X1  X2        S1  S2        S3    b\n",
      "0   0   1  0.285714   0  0.142857   16\n",
      "1   0   0  0.428571   1 -0.285714    6\n",
      "2   1   0 -0.714286   0  0.142857    5\n",
      "3   0   0 -1.142857   0  1.428571  116\n",
      "\n",
      "New Tableau\n",
      "    X1  X2  S1        S2        S3      b\n",
      "0   0   1   0 -0.666667  0.333333   12.0\n",
      "1   0   0   1  2.333333 -0.666667   14.0\n",
      "2   1   0   0  1.666667 -0.333333   15.0\n",
      "3   0   0   0  2.666667  0.666667  132.0\n"
     ]
    }
   ],
   "source": [
    "new_tableau = Get_New_Tableau(tableau, pivot_column, row_piv_var)"
   ]
  },
  {
   "cell_type": "markdown",
   "id": "fa3372e0-57a6-4e8c-8e34-bb59ca8bc167",
   "metadata": {},
   "source": [
    "## repeat 4) Check Optimality"
   ]
  },
  {
   "cell_type": "markdown",
   "id": "77c70524-4ec0-4181-857b-9e86e4e9d14d",
   "metadata": {},
   "source": [
    "For a solution to be optimal, all elements in the last row must be $\\geq 0$"
   ]
  },
  {
   "cell_type": "code",
   "execution_count": 20,
   "id": "e2d36b5c-54b0-451e-8994-288c3f7b56cb",
   "metadata": {},
   "outputs": [],
   "source": [
    "tableau = new_tableau.copy()"
   ]
  },
  {
   "cell_type": "code",
   "execution_count": 21,
   "id": "42b77ded-0c8d-4cf7-a45e-035936836a19",
   "metadata": {},
   "outputs": [
    {
     "name": "stdout",
     "output_type": "stream",
     "text": [
      "Last Row is: [  0.           0.           0.           2.66666667   0.66666667\n",
      " 132.        ]\n",
      "Optimal solution found\n"
     ]
    }
   ],
   "source": [
    "Check_Optimal(tableau)"
   ]
  },
  {
   "cell_type": "code",
   "execution_count": 22,
   "id": "88afc872-8b12-4252-b8d3-439e4977b0ad",
   "metadata": {},
   "outputs": [
    {
     "data": {
      "text/html": [
       "<div>\n",
       "<style scoped>\n",
       "    .dataframe tbody tr th:only-of-type {\n",
       "        vertical-align: middle;\n",
       "    }\n",
       "\n",
       "    .dataframe tbody tr th {\n",
       "        vertical-align: top;\n",
       "    }\n",
       "\n",
       "    .dataframe thead th {\n",
       "        text-align: right;\n",
       "    }\n",
       "</style>\n",
       "<table border=\"1\" class=\"dataframe\">\n",
       "  <thead>\n",
       "    <tr style=\"text-align: right;\">\n",
       "      <th></th>\n",
       "      <th>X1</th>\n",
       "      <th>X2</th>\n",
       "      <th>S1</th>\n",
       "      <th>S2</th>\n",
       "      <th>S3</th>\n",
       "      <th>b</th>\n",
       "    </tr>\n",
       "  </thead>\n",
       "  <tbody>\n",
       "    <tr>\n",
       "      <th>0</th>\n",
       "      <td>0</td>\n",
       "      <td>1</td>\n",
       "      <td>0</td>\n",
       "      <td>-0.666667</td>\n",
       "      <td>0.333333</td>\n",
       "      <td>12.0</td>\n",
       "    </tr>\n",
       "    <tr>\n",
       "      <th>1</th>\n",
       "      <td>0</td>\n",
       "      <td>0</td>\n",
       "      <td>1</td>\n",
       "      <td>2.333333</td>\n",
       "      <td>-0.666667</td>\n",
       "      <td>14.0</td>\n",
       "    </tr>\n",
       "    <tr>\n",
       "      <th>2</th>\n",
       "      <td>1</td>\n",
       "      <td>0</td>\n",
       "      <td>0</td>\n",
       "      <td>1.666667</td>\n",
       "      <td>-0.333333</td>\n",
       "      <td>15.0</td>\n",
       "    </tr>\n",
       "    <tr>\n",
       "      <th>3</th>\n",
       "      <td>0</td>\n",
       "      <td>0</td>\n",
       "      <td>0</td>\n",
       "      <td>2.666667</td>\n",
       "      <td>0.666667</td>\n",
       "      <td>132.0</td>\n",
       "    </tr>\n",
       "  </tbody>\n",
       "</table>\n",
       "</div>"
      ],
      "text/plain": [
       "   X1  X2  S1        S2        S3      b\n",
       "0   0   1   0 -0.666667  0.333333   12.0\n",
       "1   0   0   1  2.333333 -0.666667   14.0\n",
       "2   1   0   0  1.666667 -0.333333   15.0\n",
       "3   0   0   0  2.666667  0.666667  132.0"
      ]
     },
     "execution_count": 22,
     "metadata": {},
     "output_type": "execute_result"
    }
   ],
   "source": [
    "tableau"
   ]
  },
  {
   "cell_type": "code",
   "execution_count": 23,
   "id": "a03b028c-debe-4263-a90f-30752d133b53",
   "metadata": {},
   "outputs": [
    {
     "name": "stdout",
     "output_type": "stream",
     "text": [
      "Optimal solution found\n",
      "Basic Variables: ['X1', 'X2', 'S1']\n",
      "Non Basic Variables: ['S2', 'S3', 'b']\n"
     ]
    },
    {
     "data": {
      "text/html": [
       "<div>\n",
       "<style scoped>\n",
       "    .dataframe tbody tr th:only-of-type {\n",
       "        vertical-align: middle;\n",
       "    }\n",
       "\n",
       "    .dataframe tbody tr th {\n",
       "        vertical-align: top;\n",
       "    }\n",
       "\n",
       "    .dataframe thead th {\n",
       "        text-align: right;\n",
       "    }\n",
       "</style>\n",
       "<table border=\"1\" class=\"dataframe\">\n",
       "  <thead>\n",
       "    <tr style=\"text-align: right;\">\n",
       "      <th></th>\n",
       "      <th>X1</th>\n",
       "      <th>X2</th>\n",
       "      <th>S1</th>\n",
       "      <th>S2</th>\n",
       "      <th>S3</th>\n",
       "      <th>b</th>\n",
       "    </tr>\n",
       "  </thead>\n",
       "  <tbody>\n",
       "    <tr>\n",
       "      <th>0</th>\n",
       "      <td>15.0</td>\n",
       "      <td>12.0</td>\n",
       "      <td>14.0</td>\n",
       "      <td>0</td>\n",
       "      <td>0</td>\n",
       "      <td>0</td>\n",
       "    </tr>\n",
       "  </tbody>\n",
       "</table>\n",
       "</div>"
      ],
      "text/plain": [
       "     X1    X2    S1  S2  S3  b\n",
       "0  15.0  12.0  14.0   0   0  0"
      ]
     },
     "execution_count": 23,
     "metadata": {},
     "output_type": "execute_result"
    }
   ],
   "source": [
    "optimal_solution = Get_Optimal_Result(tableau)\n",
    "\n",
    "optimal_solution"
   ]
  },
  {
   "cell_type": "code",
   "execution_count": null,
   "id": "faffd1aa-7c6a-42ae-a892-8b420201d002",
   "metadata": {},
   "outputs": [],
   "source": []
  }
 ],
 "metadata": {
  "kernelspec": {
   "display_name": "Python 3 (ipykernel)",
   "language": "python",
   "name": "python3"
  },
  "language_info": {
   "codemirror_mode": {
    "name": "ipython",
    "version": 3
   },
   "file_extension": ".py",
   "mimetype": "text/x-python",
   "name": "python",
   "nbconvert_exporter": "python",
   "pygments_lexer": "ipython3",
   "version": "3.8.0"
  }
 },
 "nbformat": 4,
 "nbformat_minor": 5
}